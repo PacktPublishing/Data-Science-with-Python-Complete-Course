{
 "cells": [
  {
   "cell_type": "markdown",
   "metadata": {
    "id": "awxCHcrmtbTk"
   },
   "source": [
    "\n",
    "\n",
    "#  **Model Building End-to-End Series**"
   ]
  },
  {
   "cell_type": "markdown",
   "metadata": {
    "id": "WrUCl6HKz25L"
   },
   "source": [
    "---\n",
    "# **Table of Contents**\n",
    "---\n",
    "\n",
    "**1.** [**Introduction**](#Section2)<br>\n",
    "\n",
    "**2.** [**Problem Statement**](#Section2)<br>\n",
    "\n",
    "**3.** [**Importing Libraries**](#Section3)<br>\n",
    "\n",
    "**4.** [**Loading data using Pandas**](#Section4)<br>\n",
    "\n",
    "**5.** [**Seperating data into Train and Test sets**](#Section5)<br>\n",
    "\n",
    "**6.** [**Model Building**](#Section6)<br>\n",
    "\n",
    "**7.** [**Model Evaluation**](#Section7)<br>"
   ]
  },
  {
   "cell_type": "markdown",
   "metadata": {
    "id": "eBtABd5XZBCE"
   },
   "source": [
    "---\n",
    "<a name = Section2></a>\n",
    "# **1. Introduction**\n",
    "---"
   ]
  },
  {
   "cell_type": "markdown",
   "metadata": {
    "id": "zxbyvicpZGqi"
   },
   "source": [
    "\n",
    "- Depending on the **data type** (qualitative or quantitative) of the **target variable** (commonly referred to as the Y variable) we are either going to be building a **classification** (if Y is qualitative) or **regression** (if Y is quantitative) model. \n",
    "\n",
    "- **Machine learning algorithms** could be broadly categorised to one of **three** types:\n",
    "  - **Supervised learning** — is a machine learning task that establishes the mathematical relationship between input X and output Y variables. Such X, Y pair constitutes the labeled data that are used for model building in an effort to learn how to predict the output from the input.\n",
    "\n",
    "  - **Unsupervised learning** — is a machine learning task that makes use of only the input X variables. Such X variables are unlabeled data that the learning algorithm uses in modeling the inherent structure of the data.\n",
    "\n",
    "  - **Reinforcement learning** — is a machine learning task that decides on the next course of action and it does this by learning through trial and error in an effort to maximize the reward"
   ]
  },
  {
   "cell_type": "markdown",
   "metadata": {
    "id": "6yQR7fXw03pt"
   },
   "source": [
    "---\n",
    "<a name = Section2></a>\n",
    "# **2. Problem Statement**\n",
    "---"
   ]
  },
  {
   "cell_type": "markdown",
   "metadata": {
    "id": "nl0wpcMI0_YI"
   },
   "source": [
    "Due to the **boom** in the telecom industry with **4G technology**, it has become a pain in the neck for the company to **retain their customers**.\n",
    "\n",
    "<center><img src=\"https://raw.githubusercontent.com/insaid2018/Domain_Case_Studies/master/Telecom/churn2.png\"width=\"350\" height=\"220\"/></center>\n",
    "\n",
    "- They are in the **middle** of setting up more **cell sites** on the **4G network** to improve their **4G services**.\n",
    "\n",
    "-  It is **plausible** for customers to choose **4G services** over **3G services** due to benefits of **cost,speed, latency etc**.\n",
    "\n",
    "\n",
    "\n",
    "- Till now they have been using manual traditional ways which now has become a problem to handle due to work complication.\n",
    "\n",
    "<center><img src = \"https://raw.githubusercontent.com/insaid2018/Term-2/master/images/87217572-51866a00-c368-11ea-90b5-dd2e28fd00de.jpg\"width=\"400\" height=\"280\"/></center>\n",
    "\n",
    "- They have a detailed history of their customers and are looking for an automated solution toidentify the likeliness of customer churning from using their services.\n",
    "\n",
    "- The data is **stored** in their **MongoDB** and you need to **extract to move further with your Data Science skills**."
   ]
  },
  {
   "cell_type": "markdown",
   "metadata": {
    "id": "lAzSFP4w0_Of"
   },
   "source": [
    "---\n",
    "<a name = Section3></a>\n",
    "# **3. Importing Libraries**\n",
    "---"
   ]
  },
  {
   "cell_type": "markdown",
   "metadata": {
    "id": "qysCwvG92p3z"
   },
   "source": [
    "\n",
    "### **Importing Libraries**"
   ]
  },
  {
   "cell_type": "code",
   "execution_count": 2,
   "metadata": {
    "id": "7rMJ6JpA-Qfj"
   },
   "outputs": [],
   "source": [
    "import pandas as pd\n",
    "import numpy as np\n",
    "\n",
    "from sklearn.model_selection import train_test_split\n",
    "\n",
    "import matplotlib.pyplot as plt\n",
    "\n",
    "from sklearn.model_selection import cross_val_score\n",
    "from sklearn.linear_model import LogisticRegression\n",
    "from sklearn.tree import DecisionTreeClassifier\n",
    "from sklearn.ensemble import RandomForestClassifier\n",
    "\n",
    "from sklearn.model_selection import GridSearchCV\n",
    "\n",
    "from sklearn.metrics import accuracy_score, precision_score, recall_score, confusion_matrix, classification_report"
   ]
  },
  {
   "cell_type": "markdown",
   "metadata": {
    "id": "kzFNE7kG3ucA"
   },
   "source": [
    "---\n",
    "<a name = Section4></a>\n",
    "# **4. Loading data using Pandas**\n",
    "---"
   ]
  },
  {
   "cell_type": "code",
   "execution_count": 7,
   "metadata": {
    "colab": {
     "base_uri": "https://localhost:8080/",
     "height": 196
    },
    "id": "HocBuCk5az1K",
    "outputId": "810530d8-7faa-42ac-c0b9-f3ef3330c532"
   },
   "outputs": [
    {
     "data": {
      "text/html": [
       "<div>\n",
       "<style scoped>\n",
       "    .dataframe tbody tr th:only-of-type {\n",
       "        vertical-align: middle;\n",
       "    }\n",
       "\n",
       "    .dataframe tbody tr th {\n",
       "        vertical-align: top;\n",
       "    }\n",
       "\n",
       "    .dataframe thead th {\n",
       "        text-align: right;\n",
       "    }\n",
       "</style>\n",
       "<table border=\"1\" class=\"dataframe\">\n",
       "  <thead>\n",
       "    <tr style=\"text-align: right;\">\n",
       "      <th></th>\n",
       "      <th>tenure</th>\n",
       "      <th>PhoneService</th>\n",
       "      <th>Contract</th>\n",
       "      <th>PaperlessBilling</th>\n",
       "      <th>PaymentMethod</th>\n",
       "      <th>MonthlyCharges</th>\n",
       "      <th>Churn</th>\n",
       "    </tr>\n",
       "  </thead>\n",
       "  <tbody>\n",
       "    <tr>\n",
       "      <th>0</th>\n",
       "      <td>1.0</td>\n",
       "      <td>0</td>\n",
       "      <td>0</td>\n",
       "      <td>1</td>\n",
       "      <td>2</td>\n",
       "      <td>29.85</td>\n",
       "      <td>0</td>\n",
       "    </tr>\n",
       "    <tr>\n",
       "      <th>1</th>\n",
       "      <td>34.0</td>\n",
       "      <td>1</td>\n",
       "      <td>1</td>\n",
       "      <td>0</td>\n",
       "      <td>3</td>\n",
       "      <td>56.95</td>\n",
       "      <td>0</td>\n",
       "    </tr>\n",
       "    <tr>\n",
       "      <th>2</th>\n",
       "      <td>2.0</td>\n",
       "      <td>1</td>\n",
       "      <td>0</td>\n",
       "      <td>1</td>\n",
       "      <td>3</td>\n",
       "      <td>53.85</td>\n",
       "      <td>1</td>\n",
       "    </tr>\n",
       "    <tr>\n",
       "      <th>3</th>\n",
       "      <td>45.0</td>\n",
       "      <td>0</td>\n",
       "      <td>1</td>\n",
       "      <td>0</td>\n",
       "      <td>0</td>\n",
       "      <td>42.30</td>\n",
       "      <td>0</td>\n",
       "    </tr>\n",
       "    <tr>\n",
       "      <th>4</th>\n",
       "      <td>2.0</td>\n",
       "      <td>1</td>\n",
       "      <td>0</td>\n",
       "      <td>1</td>\n",
       "      <td>2</td>\n",
       "      <td>70.70</td>\n",
       "      <td>1</td>\n",
       "    </tr>\n",
       "  </tbody>\n",
       "</table>\n",
       "</div>"
      ],
      "text/plain": [
       "   tenure  PhoneService  Contract  PaperlessBilling  PaymentMethod  \\\n",
       "0     1.0             0         0                 1              2   \n",
       "1    34.0             1         1                 0              3   \n",
       "2     2.0             1         0                 1              3   \n",
       "3    45.0             0         1                 0              0   \n",
       "4     2.0             1         0                 1              2   \n",
       "\n",
       "   MonthlyCharges  Churn  \n",
       "0           29.85      0  \n",
       "1           56.95      0  \n",
       "2           53.85      1  \n",
       "3           42.30      0  \n",
       "4           70.70      1  "
      ]
     },
     "execution_count": 7,
     "metadata": {},
     "output_type": "execute_result"
    }
   ],
   "source": [
    "data = pd.read_csv(\"Cleaned_Churn.csv\")\n",
    "data.head()"
   ]
  },
  {
   "cell_type": "code",
   "execution_count": 8,
   "metadata": {
    "colab": {
     "base_uri": "https://localhost:8080/"
    },
    "id": "37zr5KLk4_ne",
    "outputId": "9b19ad3c-5b20-4651-d21d-821641fa8f52"
   },
   "outputs": [
    {
     "name": "stdout",
     "output_type": "stream",
     "text": [
      "<class 'pandas.core.frame.DataFrame'>\n",
      "RangeIndex: 7043 entries, 0 to 7042\n",
      "Data columns (total 7 columns):\n",
      " #   Column            Non-Null Count  Dtype  \n",
      "---  ------            --------------  -----  \n",
      " 0   tenure            7043 non-null   float64\n",
      " 1   PhoneService      7043 non-null   int64  \n",
      " 2   Contract          7043 non-null   int64  \n",
      " 3   PaperlessBilling  7043 non-null   int64  \n",
      " 4   PaymentMethod     7043 non-null   int64  \n",
      " 5   MonthlyCharges    7043 non-null   float64\n",
      " 6   Churn             7043 non-null   int64  \n",
      "dtypes: float64(2), int64(5)\n",
      "memory usage: 385.3 KB\n"
     ]
    }
   ],
   "source": [
    "data.info()"
   ]
  },
  {
   "cell_type": "markdown",
   "metadata": {
    "id": "4U3D6l15AIz_"
   },
   "source": [
    "---\n",
    "<a name = Section4></a>\n",
    "# **5. Separating data into train and test sets**\n",
    "---"
   ]
  },
  {
   "cell_type": "markdown",
   "metadata": {
    "id": "BiQGEzdY5CQm"
   },
   "source": [
    "<a id=section5></a>\n",
    "## 5.1 Separating Independent and Dependent variables"
   ]
  },
  {
   "cell_type": "code",
   "execution_count": 9,
   "metadata": {
    "id": "X3b8zgwQ5T56"
   },
   "outputs": [],
   "source": [
    "X = data.drop('Churn', axis = 1)\n",
    "y = data['Churn']"
   ]
  },
  {
   "cell_type": "code",
   "execution_count": 10,
   "metadata": {
    "colab": {
     "base_uri": "https://localhost:8080/"
    },
    "id": "LLBaIMjwUFY8",
    "outputId": "58289275-9963-4e4b-889c-5153c3b033f4"
   },
   "outputs": [
    {
     "data": {
      "text/plain": [
       "(7043, 6)"
      ]
     },
     "execution_count": 10,
     "metadata": {},
     "output_type": "execute_result"
    }
   ],
   "source": [
    "X.shape"
   ]
  },
  {
   "cell_type": "code",
   "execution_count": 11,
   "metadata": {
    "colab": {
     "base_uri": "https://localhost:8080/"
    },
    "id": "KGHLiXT8UKu8",
    "outputId": "ab6f1433-473a-4ff8-e9a8-74a3061291b7"
   },
   "outputs": [
    {
     "data": {
      "text/plain": [
       "(7043,)"
      ]
     },
     "execution_count": 11,
     "metadata": {},
     "output_type": "execute_result"
    }
   ],
   "source": [
    "y.shape"
   ]
  },
  {
   "cell_type": "markdown",
   "metadata": {
    "id": "RkWUNJF05KiV"
   },
   "source": [
    "<a id=section5></a>\n",
    "## 5.2 Splitting data into train and test set."
   ]
  },
  {
   "cell_type": "code",
   "execution_count": 13,
   "metadata": {
    "id": "9IyowWB-5mVO"
   },
   "outputs": [],
   "source": [
    "X_train, X_test, y_train, y_test = train_test_split(X, y, test_size = 0.1, random_state = 1)"
   ]
  },
  {
   "cell_type": "markdown",
   "metadata": {
    "id": "c-ud4wPguUVJ"
   },
   "source": [
    "---\n",
    "<a name = Section6></a>\n",
    "# **6. Model Building**\n",
    "---"
   ]
  },
  {
   "cell_type": "code",
   "execution_count": 14,
   "metadata": {
    "colab": {
     "base_uri": "https://localhost:8080/"
    },
    "id": "8h3_Zpelxo99",
    "outputId": "e1efa2d5-06ae-4ca8-c365-e26195007a7d"
   },
   "outputs": [
    {
     "name": "stdout",
     "output_type": "stream",
     "text": [
      "[0.85511695 0.83171907 0.81195722 0.84895992 0.82021475]\n",
      "Mean 0.8335935832303969\n"
     ]
    }
   ],
   "source": [
    "#Logistic Regression\n",
    "\n",
    "log_model = LogisticRegression(max_iter=1000)\n",
    "scores = cross_val_score(estimator=log_model, X=X_train, y=y_train, cv=5, scoring='roc_auc')\n",
    "print(scores)\n",
    "print(\"Mean\", scores.mean())"
   ]
  },
  {
   "cell_type": "code",
   "execution_count": 15,
   "metadata": {
    "colab": {
     "base_uri": "https://localhost:8080/"
    },
    "id": "bmhw5VF6SK1p",
    "outputId": "3c5b05cf-2ac2-40be-a957-0f1a2abc983d"
   },
   "outputs": [
    {
     "name": "stdout",
     "output_type": "stream",
     "text": [
      "[0.7998653  0.78148453 0.75480185 0.78344967 0.74957882]\n",
      "Mean 0.7738360349451494\n"
     ]
    }
   ],
   "source": [
    "# Decision Tree\n",
    "decision_tree = DecisionTreeClassifier(max_depth = 9, random_state = 123,\n",
    "                                       splitter = \"best\", criterion = \"gini\")\n",
    "scores = cross_val_score(estimator=decision_tree, X=X_train, y=y_train, cv=5, scoring='roc_auc')\n",
    "print(scores)\n",
    "print(\"Mean\", scores.mean())"
   ]
  },
  {
   "cell_type": "code",
   "execution_count": 17,
   "metadata": {
    "id": "LQL52L3nW_lE"
   },
   "outputs": [],
   "source": [
    "model_rf = RandomForestClassifier()"
   ]
  },
  {
   "cell_type": "code",
   "execution_count": 18,
   "metadata": {
    "colab": {
     "base_uri": "https://localhost:8080/"
    },
    "id": "FMhKQSCBRrxl",
    "outputId": "add6c7a6-7f4f-463d-8209-edb3900d987f"
   },
   "outputs": [
    {
     "name": "stdout",
     "output_type": "stream",
     "text": [
      "[0.86385174 0.83833038 0.82180859 0.85553511 0.82081394]\n",
      "Mean 0.8400679495277237\n"
     ]
    }
   ],
   "source": [
    "# Random Forest\n",
    "model_rf = RandomForestClassifier(n_estimators=1000 , oob_score = True, n_jobs = -1,\n",
    "                                  random_state =50, max_features = \"auto\",\n",
    "                                  max_leaf_nodes = 30)\n",
    "scores = cross_val_score(estimator=model_rf, X=X_train, y=y_train, cv=5, scoring='roc_auc')\n",
    "print(scores)\n",
    "print(\"Mean\", scores.mean())"
   ]
  },
  {
   "cell_type": "markdown",
   "metadata": {
    "id": "9sKbH6exGkFE"
   },
   "source": [
    "### 6.1 CHECKING FEATURE IMPORTANCE"
   ]
  },
  {
   "cell_type": "code",
   "execution_count": 19,
   "metadata": {
    "colab": {
     "base_uri": "https://localhost:8080/"
    },
    "id": "RumvIJf5S_-W",
    "outputId": "2ec5686b-a316-43f6-f2fc-7f4fea54d80c"
   },
   "outputs": [
    {
     "data": {
      "text/plain": [
       "RandomForestClassifier(max_leaf_nodes=30, n_estimators=1000, n_jobs=-1,\n",
       "                       oob_score=True, random_state=50)"
      ]
     },
     "execution_count": 19,
     "metadata": {},
     "output_type": "execute_result"
    }
   ],
   "source": [
    "model_rf.fit(X_train,y_train)"
   ]
  },
  {
   "cell_type": "code",
   "execution_count": 20,
   "metadata": {
    "colab": {
     "base_uri": "https://localhost:8080/"
    },
    "id": "al6L5yVNGzvZ",
    "outputId": "e92bec5f-38e8-4993-b08d-1aa6f4582d2e"
   },
   "outputs": [
    {
     "name": "stdout",
     "output_type": "stream",
     "text": [
      "Feature importance of Contract : 34.28860483552098 %\n",
      "Feature importance of tenure : 30.594581810798783 %\n",
      "Feature importance of MonthlyCharges : 21.73101486021982 %\n",
      "Feature importance of PaymentMethod : 8.123568638293088 %\n",
      "Feature importance of PaperlessBilling : 4.406016326941685 %\n",
      "Feature importance of PhoneService : 0.8562135282256437 %\n"
     ]
    }
   ],
   "source": [
    "# Checking the feature importances of various features.\n",
    "# Sorting the importances by descending order (lowest importance at the bottom).\n",
    "for score, name in sorted(zip(model_rf.feature_importances_, X_train.columns), reverse=True):\n",
    "    print('Feature importance of', name, ':', score*100, '%')"
   ]
  },
  {
   "cell_type": "code",
   "execution_count": 21,
   "metadata": {
    "colab": {
     "base_uri": "https://localhost:8080/"
    },
    "id": "Tns3Zu2D7EjO",
    "outputId": "ab9916fe-541b-4f0c-d01a-3155b7438a0c"
   },
   "outputs": [
    {
     "data": {
      "text/plain": [
       "array([30.59458181,  0.85621353, 34.28860484,  4.40601633,  8.12356864,\n",
       "       21.73101486])"
      ]
     },
     "execution_count": 21,
     "metadata": {},
     "output_type": "execute_result"
    }
   ],
   "source": [
    "model_rf.feature_importances_*100"
   ]
  },
  {
   "cell_type": "code",
   "execution_count": 22,
   "metadata": {
    "colab": {
     "base_uri": "https://localhost:8080/",
     "height": 553
    },
    "id": "FFRo3JH0G6Bk",
    "outputId": "364e0eda-11d6-49eb-c661-956ffd263ba9"
   },
   "outputs": [
    {
     "data": {
      "text/plain": [
       "Text(0.5, 1.0, 'Feature Importance of each Feature')"
      ]
     },
     "execution_count": 22,
     "metadata": {},
     "output_type": "execute_result"
    },
    {
     "data": {
      "image/png": "[encoded data removed]",
      "text/plain": [
       "<Figure size 864x504 with 1 Axes>"
      ]
     },
     "metadata": {
      "needs_background": "light"
     },
     "output_type": "display_data"
    }
   ],
   "source": [
    "# Plotting the Feature Importance of each feature.\n",
    "plt.figure(figsize=(12, 7))\n",
    "plt.bar(X_train.columns, model_rf.feature_importances_*100, color='green')\n",
    "plt.xlabel('Features', fontsize=14)\n",
    "plt.ylabel('Importance', fontsize=14)\n",
    "plt.xticks(rotation=90)\n",
    "plt.title('Feature Importance of each Feature', fontsize=16)"
   ]
  },
  {
   "cell_type": "markdown",
   "metadata": {
    "id": "d8zwnTjGHPb5"
   },
   "source": [
    "### 6.2 HYPERPARAMETER TUNING"
   ]
  },
  {
   "cell_type": "code",
   "execution_count": 23,
   "metadata": {
    "id": "X2rhT3uEHJRz"
   },
   "outputs": [],
   "source": [
    "param_grid = [{'n_estimators': [100, 200, 300],\n",
    "               'max_depth': [None, 2, 3, 10, 20],\n",
    "               'max_features': ['auto', 2, 4, 8, 16, 'log2', None]}]"
   ]
  },
  {
   "cell_type": "code",
   "execution_count": 24,
   "metadata": {
    "id": "QCD-YJUTHVVN"
   },
   "outputs": [],
   "source": [
    "temp_rf = RandomForestClassifier(random_state=0, n_jobs=-1)"
   ]
  },
  {
   "cell_type": "code",
   "execution_count": 25,
   "metadata": {
    "id": "OuQ1W1oJHbeQ"
   },
   "outputs": [],
   "source": [
    "grid_search = GridSearchCV(estimator=temp_rf, param_grid=param_grid, scoring='roc_auc', cv=5, n_jobs=-1)"
   ]
  },
  {
   "cell_type": "code",
   "execution_count": 26,
   "metadata": {
    "colab": {
     "base_uri": "https://localhost:8080/"
    },
    "id": "-9KniorcHky-",
    "outputId": "8f56f446-53f8-4741-942d-b2580a7cb404"
   },
   "outputs": [
    {
     "name": "stderr",
     "output_type": "stream",
     "text": [
      "C:\\Users\\dell\\anaconda3\\lib\\site-packages\\sklearn\\model_selection\\_search.py:918: UserWarning: One or more of the test scores are non-finite: [0.79862446 0.79997695 0.80016432 0.79862446 0.79997695 0.80016432\n",
      " 0.79861259 0.80069034 0.80145951        nan        nan        nan\n",
      "        nan        nan        nan 0.79862414 0.79997695 0.80016432\n",
      " 0.79888337 0.79972935 0.80036423 0.8288876  0.82977733 0.83008308\n",
      " 0.8288876  0.82977733 0.83008308 0.82402619 0.82521364 0.82672974\n",
      "        nan        nan        nan        nan        nan        nan\n",
      " 0.8288876  0.82977733 0.83008308 0.81688097 0.817344   0.81792891\n",
      " 0.83438728 0.83471825 0.83491169 0.83438728 0.83471825 0.83491169\n",
      " 0.83142367 0.83232502 0.83277494        nan        nan        nan\n",
      "        nan        nan        nan 0.83438728 0.83471825 0.83491169\n",
      " 0.82851316 0.82865532 0.82884019 0.83149889 0.83118527 0.83121635\n",
      " 0.83149889 0.83118527 0.83121635 0.82847971 0.82922515 0.82975754\n",
      "        nan        nan        nan        nan        nan        nan\n",
      " 0.83149889 0.83118527 0.83121635 0.82517981 0.82516988 0.82606604\n",
      " 0.79999522 0.80110942 0.80214926 0.79999522 0.80110942 0.80214926\n",
      " 0.80021178 0.80222397 0.80317505        nan        nan        nan\n",
      "        nan        nan        nan 0.79999522 0.80110942 0.80214926\n",
      " 0.80021504 0.80141387 0.80166222]\n",
      "  warnings.warn(\n"
     ]
    },
    {
     "name": "stdout",
     "output_type": "stream",
     "text": [
      "Wall time: 4min 50s\n"
     ]
    },
    {
     "data": {
      "text/plain": [
       "GridSearchCV(cv=5, estimator=RandomForestClassifier(n_jobs=-1, random_state=0),\n",
       "             n_jobs=-1,\n",
       "             param_grid=[{'max_depth': [None, 2, 3, 10, 20],\n",
       "                          'max_features': ['auto', 2, 4, 8, 16, 'log2', None],\n",
       "                          'n_estimators': [100, 200, 300]}],\n",
       "             scoring='roc_auc')"
      ]
     },
     "execution_count": 26,
     "metadata": {},
     "output_type": "execute_result"
    }
   ],
   "source": [
    "%%time\n",
    "grid_search.fit(X_train, y_train)"
   ]
  },
  {
   "cell_type": "code",
   "execution_count": 27,
   "metadata": {
    "colab": {
     "base_uri": "https://localhost:8080/"
    },
    "id": "4Fa4lXgPH7HP",
    "outputId": "a05ef3de-ce39-4966-b86f-a153582ca0c8"
   },
   "outputs": [
    {
     "data": {
      "text/plain": [
       "0.8349116880067996"
      ]
     },
     "execution_count": 27,
     "metadata": {},
     "output_type": "execute_result"
    }
   ],
   "source": [
    "# Calculating the best RMSE score found by Grid Search \n",
    "grid_search.best_score_"
   ]
  },
  {
   "cell_type": "code",
   "execution_count": 28,
   "metadata": {
    "colab": {
     "base_uri": "https://localhost:8080/"
    },
    "id": "anxn1jk5IcrE",
    "outputId": "9c43a566-209c-4154-942b-79ed69859ec1"
   },
   "outputs": [
    {
     "data": {
      "text/plain": [
       "{'max_depth': 3, 'max_features': 'auto', 'n_estimators': 300}"
      ]
     },
     "execution_count": 28,
     "metadata": {},
     "output_type": "execute_result"
    }
   ],
   "source": [
    "grid_search.best_params_"
   ]
  },
  {
   "cell_type": "markdown",
   "metadata": {
    "id": "s-YgAwltIe9p"
   },
   "source": [
    "### **6.3 FINAL MODEL**"
   ]
  },
  {
   "cell_type": "code",
   "execution_count": 29,
   "metadata": {
    "id": "kHOpl1OTIeLm"
   },
   "outputs": [],
   "source": [
    "# Creating the final random forest model from the grid search's best estimator.\n",
    "final_rf = grid_search.best_estimator_"
   ]
  },
  {
   "cell_type": "code",
   "execution_count": 30,
   "metadata": {
    "colab": {
     "base_uri": "https://localhost:8080/"
    },
    "id": "qTmKwypSIuD3",
    "outputId": "3446b6d3-6b74-40ab-d047-3adb35606bef"
   },
   "outputs": [
    {
     "data": {
      "text/plain": [
       "RandomForestClassifier(max_depth=3, n_estimators=300, n_jobs=-1, random_state=0)"
      ]
     },
     "execution_count": 30,
     "metadata": {},
     "output_type": "execute_result"
    }
   ],
   "source": [
    "# Fitting the final model with training set\n",
    "final_rf.fit(X_train, y_train)"
   ]
  },
  {
   "cell_type": "code",
   "execution_count": 31,
   "metadata": {
    "id": "Ohka5NwEIxZf"
   },
   "outputs": [],
   "source": [
    "# Making predictions on the train set\n",
    "y_train_pred = final_rf.predict(X_train)"
   ]
  },
  {
   "cell_type": "code",
   "execution_count": 32,
   "metadata": {
    "id": "3JeJvOjDI3N7"
   },
   "outputs": [],
   "source": [
    "# Making predictions on the test set\n",
    "y_test_pred = final_rf.predict(X_test)"
   ]
  },
  {
   "cell_type": "markdown",
   "metadata": {
    "id": "c7U78_UtDimQ"
   },
   "source": [
    "###  **Saving the model as Pickle String**"
   ]
  },
  {
   "cell_type": "code",
   "execution_count": 33,
   "metadata": {
    "id": "oUw7dm_KDxBg"
   },
   "outputs": [],
   "source": [
    "import pickle"
   ]
  },
  {
   "cell_type": "code",
   "execution_count": 34,
   "metadata": {
    "id": "zAa0X6wWDiOv"
   },
   "outputs": [],
   "source": [
    "pickle.dump(final_rf, open(\"randomforest.pkl\",\"wb\"))"
   ]
  },
  {
   "cell_type": "markdown",
   "metadata": {
    "id": "uA88C6u4AiCG"
   },
   "source": [
    "---\n",
    "<a name = Section7></a>\n",
    "# **7. Model Evaluation**\n",
    "---"
   ]
  },
  {
   "cell_type": "markdown",
   "metadata": {
    "id": "5s_tx9tHMs_v"
   },
   "source": [
    "### **CONFUSION MATRIX**"
   ]
  },
  {
   "cell_type": "code",
   "execution_count": 35,
   "metadata": {
    "id": "sb3TuRYxMlzi"
   },
   "outputs": [],
   "source": [
    "confusion_mat = pd.DataFrame(confusion_matrix(y_test, y_test_pred))"
   ]
  },
  {
   "cell_type": "code",
   "execution_count": 36,
   "metadata": {
    "colab": {
     "base_uri": "https://localhost:8080/",
     "height": 107
    },
    "id": "sApQ8VPhM1R3",
    "outputId": "2f3f2ed0-928e-49f1-af87-f30256455361"
   },
   "outputs": [
    {
     "data": {
      "text/html": [
       "<div>\n",
       "<style scoped>\n",
       "    .dataframe tbody tr th:only-of-type {\n",
       "        vertical-align: middle;\n",
       "    }\n",
       "\n",
       "    .dataframe tbody tr th {\n",
       "        vertical-align: top;\n",
       "    }\n",
       "\n",
       "    .dataframe thead th {\n",
       "        text-align: right;\n",
       "    }\n",
       "</style>\n",
       "<table border=\"1\" class=\"dataframe\">\n",
       "  <thead>\n",
       "    <tr style=\"text-align: right;\">\n",
       "      <th></th>\n",
       "      <th>Predicted Negative</th>\n",
       "      <th>Predicted Positive</th>\n",
       "    </tr>\n",
       "  </thead>\n",
       "  <tbody>\n",
       "    <tr>\n",
       "      <th>Actual Negative</th>\n",
       "      <td>505</td>\n",
       "      <td>28</td>\n",
       "    </tr>\n",
       "    <tr>\n",
       "      <th>Actual Positive</th>\n",
       "      <td>121</td>\n",
       "      <td>51</td>\n",
       "    </tr>\n",
       "  </tbody>\n",
       "</table>\n",
       "</div>"
      ],
      "text/plain": [
       "                 Predicted Negative  Predicted Positive\n",
       "Actual Negative                 505                  28\n",
       "Actual Positive                 121                  51"
      ]
     },
     "execution_count": 36,
     "metadata": {},
     "output_type": "execute_result"
    }
   ],
   "source": [
    "confusion_mat.index = ['Actual Negative', 'Actual Positive']\n",
    "confusion_mat.columns = ['Predicted Negative', 'Predicted Positive']\n",
    "confusion_mat"
   ]
  },
  {
   "cell_type": "markdown",
   "metadata": {
    "id": "TNLmhYllMcIP"
   },
   "source": [
    "### **ACCURACY SCORE**"
   ]
  },
  {
   "cell_type": "code",
   "execution_count": 37,
   "metadata": {
    "colab": {
     "base_uri": "https://localhost:8080/"
    },
    "id": "J74LOGXOMM8K",
    "outputId": "5c0af48b-1980-4ea0-ba3a-4a41556410ed"
   },
   "outputs": [
    {
     "name": "stdout",
     "output_type": "stream",
     "text": [
      "Accuracy score for train data is: 0.7881035026822342\n"
     ]
    }
   ],
   "source": [
    "# Accuracy score on the training set.\n",
    "print('Accuracy score for train data is:', accuracy_score(y_train, y_train_pred))"
   ]
  },
  {
   "cell_type": "code",
   "execution_count": 38,
   "metadata": {
    "colab": {
     "base_uri": "https://localhost:8080/"
    },
    "id": "_Y2yxBScMihW",
    "outputId": "137bb4d9-b791-4761-a78b-8f976b578a43"
   },
   "outputs": [
    {
     "name": "stdout",
     "output_type": "stream",
     "text": [
      "Accuracy score for test data is: 0.7886524822695036\n"
     ]
    }
   ],
   "source": [
    "# Accuracy score on the test set.\n",
    "print('Accuracy score for test data is:', accuracy_score(y_test, y_test_pred))"
   ]
  },
  {
   "cell_type": "markdown",
   "metadata": {
    "id": "k20ItfKN_XlS"
   },
   "source": [
    "### **Precision Score**"
   ]
  },
  {
   "cell_type": "code",
   "execution_count": 40,
   "metadata": {
    "colab": {
     "base_uri": "https://localhost:8080/"
    },
    "id": "at1Wo3qvtTiz",
    "outputId": "59e7978f-ca2b-41fb-891b-9912750b9f5e"
   },
   "outputs": [
    {
     "name": "stdout",
     "output_type": "stream",
     "text": [
      "Accuracy score for train data is: 0.7169117647058824\n"
     ]
    }
   ],
   "source": [
    "# Precision score on the training set.\n",
    "print('Accuracy score for train data is:', precision_score(y_train, y_train_pred))"
   ]
  },
  {
   "cell_type": "code",
   "execution_count": 41,
   "metadata": {
    "colab": {
     "base_uri": "https://localhost:8080/"
    },
    "id": "m9xBMiE4_iMk",
    "outputId": "4db418bd-17d7-4171-f887-2dbd8ca3c10f"
   },
   "outputs": [
    {
     "name": "stdout",
     "output_type": "stream",
     "text": [
      "Accuracy score for test data is: 0.6455696202531646\n"
     ]
    }
   ],
   "source": [
    "# Precision score on the test set.\n",
    "print('Accuracy score for test data is:', precision_score(y_test, y_test_pred))"
   ]
  },
  {
   "cell_type": "markdown",
   "metadata": {
    "id": "T-8eq0-M_nYA"
   },
   "source": [
    "### **Recall Score**"
   ]
  },
  {
   "cell_type": "code",
   "execution_count": 42,
   "metadata": {
    "colab": {
     "base_uri": "https://localhost:8080/"
    },
    "id": "CykQ9a8d_mPY",
    "outputId": "21e3adbb-a921-415d-c77b-d2ad00b1b105"
   },
   "outputs": [
    {
     "name": "stdout",
     "output_type": "stream",
     "text": [
      "Accuracy score for train data is: 0.3447259870359458\n"
     ]
    }
   ],
   "source": [
    "# recall score on the training set.\n",
    "print('Accuracy score for train data is:', recall_score(y_train, y_train_pred))"
   ]
  },
  {
   "cell_type": "code",
   "execution_count": 43,
   "metadata": {
    "colab": {
     "base_uri": "https://localhost:8080/"
    },
    "id": "tUA87vjc_tdD",
    "outputId": "14c51a20-2040-499d-b979-2dce362c4416"
   },
   "outputs": [
    {
     "name": "stdout",
     "output_type": "stream",
     "text": [
      "Accuracy score for test data is: 0.29651162790697677\n"
     ]
    }
   ],
   "source": [
    "# recall score on the test set.\n",
    "print('Accuracy score for test data is:', recall_score(y_test, y_test_pred))"
   ]
  }
 ],
 "metadata": {
  "colab": {
   "collapsed_sections": [],
   "name": "Model Building.ipynb",
   "provenance": [],
   "toc_visible": true
  },
  "kernelspec": {
   "display_name": "Python 3",
   "language": "python",
   "name": "python3"
  },
  "language_info": {
   "codemirror_mode": {
    "name": "ipython",
    "version": 3
   },
   "file_extension": ".py",
   "mimetype": "text/x-python",
   "name": "python",
   "nbconvert_exporter": "python",
   "pygments_lexer": "ipython3",
   "version": "3.8.8"
  }
 },
 "nbformat": 4,
 "nbformat_minor": 1
}
